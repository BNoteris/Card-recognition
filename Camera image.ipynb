{
 "cells": [
  {
   "cell_type": "code",
   "execution_count": 62,
   "metadata": {},
   "outputs": [],
   "source": [
    "import importlib\n",
    "import Functions  \n",
    "importlib.reload(Functions)\n",
    "from Functions import *"
   ]
  },
  {
   "cell_type": "markdown",
   "metadata": {},
   "source": [
    "Test camera with all contours"
   ]
  },
  {
   "cell_type": "code",
   "execution_count": null,
   "metadata": {},
   "outputs": [],
   "source": [
    "cam = cv2.VideoCapture(1)\n",
    "while (1):\n",
    "    ret, img = cam.read()\n",
    "    \n",
    "    # Convertir l'image en niveaux de gris\n",
    "    gray = cv2.cvtColor(img, cv2.COLOR_BGR2GRAY)\n",
    "\n",
    "    # Détecter les contours avec Canny\n",
    "    edges = cv2.Canny(gray, 50, 150)\n",
    "\n",
    "    # Trouver les contours et la hiérarchie\n",
    "    contours, hierarchy = cv2.findContours(edges, cv2.RETR_TREE, cv2.CHAIN_APPROX_SIMPLE)\n",
    "\n",
    "    # Dessiner les contours sur l'image originale\n",
    "    cv2.drawContours(img, contours, -1, (0, 255, 0), 2)\n",
    "    cv2.imshow('Detected Lines',img)\n",
    "    if cv2.waitKey(1) == 27:\n",
    "        break\n",
    "cv2.destroyAllWindows() \n",
    "\n",
    "cam.release()"
   ]
  },
  {
   "cell_type": "markdown",
   "metadata": {},
   "source": [
    "Find cards"
   ]
  },
  {
   "cell_type": "code",
   "execution_count": null,
   "metadata": {},
   "outputs": [],
   "source": [
    "importlib.reload(Functions)\n",
    "from Functions import *\n",
    "cam = cv2.VideoCapture(1)\n",
    "\n",
    "while (1):\n",
    "    ret, image = cam.read()  \n",
    "    pro = Process_image(image)\n",
    "    cards, output= Find_cards(image)\n",
    "    cv2.imshow('Detected Cards',output)\n",
    "    #cv2.imshow('Detected Cards',pro)\n",
    "\n",
    "    if cv2.waitKey(1) == 27:\n",
    "        break\n",
    "cv2.destroyAllWindows() \n",
    "\n",
    "cam.release()"
   ]
  },
  {
   "cell_type": "markdown",
   "metadata": {},
   "source": [
    "Isolate one card"
   ]
  },
  {
   "cell_type": "code",
   "execution_count": null,
   "metadata": {},
   "outputs": [],
   "source": [
    "importlib.reload(Functions)\n",
    "from Functions import *\n",
    "cam = cv2.VideoCapture(1)\n",
    "\n",
    "while (1):\n",
    "    ret, image = cam.read()    \n",
    "    cards, output= Find_cards(image)\n",
    "    if len(cards)>= 1: \n",
    "        \n",
    "        card = Process_Card(cards[1], image)\n",
    "        plt.imshow(card.img)\n",
    "        plt.title('Test')\n",
    "        plt.show()\n",
    "    \n",
    "    cv2.imshow('Detected Cards',output)\n",
    "    if cv2.waitKey(1) == 27:\n",
    "        break\n",
    "cv2.destroyAllWindows() \n",
    "\n",
    "cam.release()"
   ]
  },
  {
   "cell_type": "markdown",
   "metadata": {},
   "source": [
    "Card recognition"
   ]
  },
  {
   "cell_type": "code",
   "execution_count": 57,
   "metadata": {},
   "outputs": [],
   "source": [
    "importlib.reload(Functions)\n",
    "from Functions import *\n",
    "cam = cv2.VideoCapture(1)\n",
    "templates = Load_Templates('Cards/')\n",
    "\n",
    "while (1):\n",
    "    \n",
    "    ret, image = cam.read()    \n",
    "    cards, output= Find_cards(image)\n",
    "    if len(cards)>= 1: \n",
    "        matching_cards, cards_found = Match_Cards(cards, image , templates) \n",
    "        for i, card in enumerate(cards_found):\n",
    "\n",
    "            output = draw_results(image, card)      \n",
    "    cv2.imshow('Detected Cards',output)\n",
    "    if cv2.waitKey(1) == 27:\n",
    "        break\n",
    "cv2.destroyAllWindows() \n",
    "\n",
    "cam.release()"
   ]
  },
  {
   "cell_type": "markdown",
   "metadata": {},
   "source": [
    "Divide into zones"
   ]
  },
  {
   "cell_type": "code",
   "execution_count": 51,
   "metadata": {},
   "outputs": [],
   "source": [
    "importlib.reload(Functions)\n",
    "from Functions import *\n",
    "\n",
    "\n",
    "# Open the camera\n",
    "cam = cv2.VideoCapture(1)\n",
    "templates = Load_Templates('Cards/')\n",
    "\n",
    "while(1) :\n",
    "    # Read a frame from the camera\n",
    "    ret, image = cam.read()      \n",
    "    cards, output= Find_cards(image)\n",
    "    if len(cards)>= 1: \n",
    "        matching_cards, cards_found = Match_Cards(cards, image , templates) \n",
    "        for i, card in enumerate(cards_found):\n",
    "\n",
    "            output = draw_results(image, card)\n",
    "\n",
    "    # Divide the frame into zones\n",
    "    divided_frame, zones = divide_into_zones(output)\n",
    "\n",
    "    # Show the divided frame\n",
    "    cv2.imshow(\"Camera Feed with Zones\", divided_frame)\n",
    "\n",
    "    # Optionally, process individual zones (example: displaying one zone)\n",
    "    # cv2.imshow(\"Top Left Zone\", zones[\"top_left\"])\n",
    "\n",
    "    # Exit when 'q' is pressed\n",
    "    if cv2.waitKey(1) == 27:\n",
    "        break\n",
    "\n",
    "# Release resources\n",
    "cam.release()\n",
    "cv2.destroyAllWindows()\n",
    "\n",
    "\n"
   ]
  },
  {
   "cell_type": "markdown",
   "metadata": {},
   "source": [
    "Blackjack"
   ]
  },
  {
   "cell_type": "code",
   "execution_count": 78,
   "metadata": {},
   "outputs": [],
   "source": [
    "importlib.reload(Functions)\n",
    "from Functions import *\n",
    "\n",
    "\n",
    "# Open the camera\n",
    "cam = cv2.VideoCapture(1)\n",
    "templates = Load_Templates('Cards/')\n",
    "\n",
    "while(1) :\n",
    "    # Read a frame from the camera\n",
    "    ret, image = cam.read()      \n",
    "    cards, output= Find_cards(image)\n",
    "    \n",
    "    p1_cards, p2_cards, p3_cards, p4_cards = [], [], [], []\n",
    "    \n",
    "    \n",
    "\n",
    "\n",
    "    if len(cards)>= 1: \n",
    "        matching_cards, cards_found = Match_Cards(cards, image , templates) \n",
    "        for i, card in enumerate(cards_found):\n",
    "            p1, p2, p3, p4 = determine_zone(image,card)\n",
    "            p1_cards.extend(p1)\n",
    "            p2_cards.extend(p2)\n",
    "            p3_cards.extend(p3)\n",
    "            p4_cards.extend(p4)\n",
    "            output = draw_results(image, card)\n",
    "\n",
    "    \n",
    "    p1score = calculate_score(p1_cards)\n",
    "    p2score = calculate_score(p2_cards)\n",
    "    p3score = calculate_score(p3_cards)\n",
    "    p4score = calculate_score(p4_cards)\n",
    "    # Divide the frame into zones\n",
    "    divided_frame, zones = divide_into_zones(output,p1score,p2score,p3score,p4score)\n",
    "\n",
    "    # Show the divided frame\n",
    "    cv2.imshow(\"Blackjack table\", divided_frame)\n",
    "\n",
    "    \n",
    "\n",
    "    # Exit when 'q' is pressed\n",
    "    if cv2.waitKey(1) == 27:\n",
    "        break\n",
    "\n",
    "# Release resources\n",
    "cam.release()\n",
    "cv2.destroyAllWindows()\n",
    "\n",
    "\n"
   ]
  }
 ],
 "metadata": {
  "kernelspec": {
   "display_name": "Python 3",
   "language": "python",
   "name": "python3"
  },
  "language_info": {
   "codemirror_mode": {
    "name": "ipython",
    "version": 3
   },
   "file_extension": ".py",
   "mimetype": "text/x-python",
   "name": "python",
   "nbconvert_exporter": "python",
   "pygments_lexer": "ipython3",
   "version": "3.11.9"
  }
 },
 "nbformat": 4,
 "nbformat_minor": 2
}
