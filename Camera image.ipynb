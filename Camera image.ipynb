{
 "cells": [
  {
   "cell_type": "code",
   "execution_count": 4,
   "metadata": {},
   "outputs": [],
   "source": [
    "import importlib\n",
    "import Functions  \n",
    "importlib.reload(Functions)\n",
    "from Functions import *\n",
    "import cv2\n",
    "import matplotlib.pyplot as plt\n",
    "import numpy as np\n",
    "from time import sleep\n",
    "import os\n",
    "from tkinter import font\n",
    "\n"
   ]
  },
  {
   "cell_type": "markdown",
   "metadata": {},
   "source": [
    "Test camera with all contours"
   ]
  },
  {
   "cell_type": "code",
   "execution_count": null,
   "metadata": {},
   "outputs": [],
   "source": [
    "cam = cv2.VideoCapture(1)\n",
    "while (1):\n",
    "    ret, img = cam.read()\n",
    "    \n",
    "    # Convertir l'image en niveaux de gris\n",
    "    gray = cv2.cvtColor(img, cv2.COLOR_BGR2GRAY)\n",
    "\n",
    "    # Détecter les contours avec Canny\n",
    "    edges = cv2.Canny(gray, 50, 150)\n",
    "\n",
    "    # Trouver les contours et la hiérarchie\n",
    "    contours, hierarchy = cv2.findContours(edges, cv2.RETR_TREE, cv2.CHAIN_APPROX_SIMPLE)\n",
    "\n",
    "    # Dessiner les contours sur l'image originale\n",
    "    cv2.drawContours(img, contours, -1, (0, 255, 0), 2)\n",
    "    cv2.imshow('Detected Lines',img)\n",
    "    if cv2.waitKey(1) == 27:\n",
    "        break\n",
    "cv2.destroyAllWindows() \n",
    "\n",
    "cam.release()"
   ]
  },
  {
   "cell_type": "markdown",
   "metadata": {},
   "source": [
    "Find cards"
   ]
  },
  {
   "cell_type": "code",
   "execution_count": null,
   "metadata": {},
   "outputs": [],
   "source": [
    "importlib.reload(Functions)\n",
    "from Functions import *\n",
    "cam = cv2.VideoCapture(1)\n",
    "\n",
    "while (1):\n",
    "    ret, image = cam.read()  \n",
    "    pro = Process_image(image)\n",
    "    cards, output= Find_cards(image)\n",
    "    cv2.imshow('Detected Cards',output)\n",
    "    #cv2.imshow('Detected Cards',pro)\n",
    "\n",
    "    if cv2.waitKey(1) == 27:\n",
    "        break\n",
    "cv2.destroyAllWindows() \n",
    "\n",
    "cam.release()"
   ]
  },
  {
   "cell_type": "markdown",
   "metadata": {},
   "source": [
    "Isolate one card"
   ]
  },
  {
   "cell_type": "code",
   "execution_count": null,
   "metadata": {},
   "outputs": [],
   "source": [
    "importlib.reload(Functions)\n",
    "from Functions import *\n",
    "cam = cv2.VideoCapture(1)\n",
    "\n",
    "while (1):\n",
    "    ret, image = cam.read()    \n",
    "    cards, output= Find_cards(image)\n",
    "    if len(cards)>= 1: \n",
    "        \n",
    "        card = Process_Card(cards[1], image)\n",
    "        plt.imshow(card.img)\n",
    "        plt.title('Test')\n",
    "        plt.show()\n",
    "    \n",
    "    cv2.imshow('Detected Cards',output)\n",
    "    if cv2.waitKey(1) == 27:\n",
    "        break\n",
    "cv2.destroyAllWindows() \n",
    "\n",
    "cam.release()"
   ]
  },
  {
   "cell_type": "code",
   "execution_count": 53,
   "metadata": {},
   "outputs": [],
   "source": [
    "importlib.reload(Functions)\n",
    "from Functions import *\n",
    "cam = cv2.VideoCapture(1)\n",
    "templates = Load_Templates('Cards/')\n",
    "\n",
    "while (1):\n",
    "    \n",
    "    ret, image = cam.read()    \n",
    "    pro = Process_image(image)\n",
    "    cards, output= Find_cards(image)\n",
    "    if len(cards)>= 1: \n",
    "        matching_cards, cards_found = Match_Corners(cards, image , templates) \n",
    "        for i, card in enumerate(cards_found):\n",
    "\n",
    "            output = draw_results(image, card)\n",
    "    cv2.imshow('process',pro)       \n",
    "    cv2.imshow('Detected Cards',output)\n",
    "    if cv2.waitKey(1) == 27:\n",
    "        break\n",
    "cv2.destroyAllWindows() \n",
    "\n",
    "cam.release()"
   ]
  }
 ],
 "metadata": {
  "kernelspec": {
   "display_name": "Python 3",
   "language": "python",
   "name": "python3"
  },
  "language_info": {
   "codemirror_mode": {
    "name": "ipython",
    "version": 3
   },
   "file_extension": ".py",
   "mimetype": "text/x-python",
   "name": "python",
   "nbconvert_exporter": "python",
   "pygments_lexer": "ipython3",
   "version": "3.11.9"
  }
 },
 "nbformat": 4,
 "nbformat_minor": 2
}
